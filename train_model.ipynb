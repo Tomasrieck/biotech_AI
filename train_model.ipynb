{
 "cells": [
  {
   "cell_type": "code",
   "execution_count": 1,
   "id": "aa0d96de",
   "metadata": {},
   "outputs": [],
   "source": [
    "import os\n",
    "import random\n",
    "import tensorflow as tf\n",
    "from tensorflow.keras.models import Sequential\n",
    "from tensorflow.keras.layers import Conv2D, MaxPooling2D, Flatten, Dense, Dropout\n",
    "from sklearn.metrics import accuracy_score\n",
    "import matplotlib.pyplot as plt"
   ]
  },
  {
   "cell_type": "code",
   "execution_count": 2,
   "id": "86eccd4e",
   "metadata": {},
   "outputs": [],
   "source": [
    "img_size = 100"
   ]
  },
  {
   "cell_type": "code",
   "execution_count": 3,
   "id": "5c8071a4",
   "metadata": {},
   "outputs": [],
   "source": [
    "def get_pixels(image_path):\n",
    "    if image_path.endswith(\"png\"):\n",
    "        img = tf.io.read_file(image_path)\n",
    "        img = tf.image.decode_png(img, channels=3)\n",
    "        \n",
    "        height = tf.shape(img)[0]\n",
    "        width = tf.shape(img)[1]\n",
    "        max_dim = tf.reduce_max([height, width])\n",
    "        pad_height = (max_dim - height) // 2\n",
    "        pad_width = (max_dim - width) // 2\n",
    "\n",
    "        img = tf.image.pad_to_bounding_box(img, pad_height, pad_width, max_dim, max_dim)\n",
    "        \n",
    "        img = tf.image.resize(img, [img_size, img_size])\n",
    "        img = tf.cast(img, tf.float32) / 255.0\n",
    "        \n",
    "        if None not in img:\n",
    "            return img"
   ]
  },
  {
   "cell_type": "code",
   "execution_count": 4,
   "id": "1e0bae42",
   "metadata": {},
   "outputs": [],
   "source": [
    "uninf_filenames = os.listdir(\"cell_images/Uninfected\")\n",
    "uninf_data = []\n",
    "for fn in uninf_filenames:\n",
    "    uninf_data.append([get_pixels(f\"cell_images/Uninfected/{fn}\"), 0])\n",
    "\n",
    "inf_filenames = os.listdir(\"cell_images/Parasitized\")\n",
    "inf_data = []\n",
    "for fn in inf_filenames:\n",
    "    inf_data.append([get_pixels(f\"cell_images/Parasitized/{fn}\"), 1])\n",
    "\n",
    "data = uninf_data + inf_data\n",
    "\n",
    "random.shuffle(data)"
   ]
  },
  {
   "cell_type": "code",
   "execution_count": 5,
   "id": "29a12c96",
   "metadata": {},
   "outputs": [],
   "source": [
    "for i in data:\n",
    "    if None in i:\n",
    "        data.remove(i)"
   ]
  },
  {
   "cell_type": "code",
   "execution_count": 6,
   "id": "059a9c96",
   "metadata": {},
   "outputs": [],
   "source": [
    "train_size = int(len(data) * 0.8)\n",
    "val_size = train_size+int(len(data) * 0.17)"
   ]
  },
  {
   "cell_type": "code",
   "execution_count": 7,
   "id": "bc583c67",
   "metadata": {},
   "outputs": [],
   "source": [
    "train_images = tf.convert_to_tensor([i[0] for i in data[:train_size]])\n",
    "train_labels = tf.convert_to_tensor([int(i[1]) for i in data[:train_size]])"
   ]
  },
  {
   "cell_type": "code",
   "execution_count": 8,
   "id": "a44a6d69",
   "metadata": {},
   "outputs": [],
   "source": [
    "val_images = tf.convert_to_tensor([i[0] for i in data[train_size:val_size]])\n",
    "val_labels = tf.convert_to_tensor([int(i[1]) for i in data[train_size:val_size]])"
   ]
  },
  {
   "cell_type": "code",
   "execution_count": 9,
   "id": "4224c81f",
   "metadata": {},
   "outputs": [],
   "source": [
    "test_images = tf.convert_to_tensor([i[0] for i in data[val_size:]])\n",
    "test_labels = tf.convert_to_tensor([int(i[1]) for i in data[val_size:]])"
   ]
  },
  {
   "cell_type": "code",
   "execution_count": 10,
   "id": "7faf9a61",
   "metadata": {},
   "outputs": [],
   "source": [
    "model = Sequential([\n",
    "    Conv2D(8, (3, 3), activation='relu'),\n",
    "    MaxPooling2D((2, 2)),\n",
    "    Conv2D(16, (3, 3), activation='relu'),\n",
    "    MaxPooling2D((2, 2)),\n",
    "    Conv2D(32, (3, 3), activation='relu'),\n",
    "    MaxPooling2D((2, 2)),\n",
    "    Conv2D(32, (3, 3), activation='relu'),\n",
    "    MaxPooling2D((2, 2)),\n",
    "    Flatten(),\n",
    "    Dense(32, activation='relu'),\n",
    "    Dropout(0.5),\n",
    "    Dense(16, activation='relu'),\n",
    "    Dense(1, activation='sigmoid')\n",
    "])"
   ]
  },
  {
   "cell_type": "code",
   "execution_count": 11,
   "id": "2a07348f",
   "metadata": {},
   "outputs": [],
   "source": [
    "model.compile(optimizer='adam',\n",
    "              loss='binary_crossentropy',\n",
    "              metrics=['accuracy'])"
   ]
  },
  {
   "cell_type": "code",
   "execution_count": 19,
   "id": "09200ba8",
   "metadata": {
    "scrolled": false
   },
   "outputs": [
    {
     "name": "stdout",
     "output_type": "stream",
     "text": [
      "Epoch 1/3\n",
      "689/689 [==============================] - 15s 22ms/step - loss: 0.1440 - accuracy: 0.9550 - val_loss: 0.1462 - val_accuracy: 0.9492\n",
      "Epoch 2/3\n",
      "689/689 [==============================] - 15s 21ms/step - loss: 0.1376 - accuracy: 0.9553 - val_loss: 0.1424 - val_accuracy: 0.9522\n",
      "Epoch 3/3\n",
      "689/689 [==============================] - 15s 22ms/step - loss: 0.1325 - accuracy: 0.9572 - val_loss: 0.1279 - val_accuracy: 0.9609\n"
     ]
    },
    {
     "data": {
      "text/plain": [
       "<keras.src.callbacks.History at 0x4e0390d10>"
      ]
     },
     "execution_count": 19,
     "metadata": {},
     "output_type": "execute_result"
    }
   ],
   "source": [
    "model.fit(train_images, train_labels, epochs=3, validation_data=(val_images, val_labels))"
   ]
  },
  {
   "cell_type": "code",
   "execution_count": 20,
   "id": "f4632035",
   "metadata": {},
   "outputs": [
    {
     "name": "stdout",
     "output_type": "stream",
     "text": [
      "26/26 [==============================] - 0s 8ms/step\n",
      "Overall accuracy: 94.32%\n"
     ]
    }
   ],
   "source": [
    "predictions = model.predict(test_images)\n",
    "predicted_labels = (predictions > 0.5).astype(int)\n",
    "\n",
    "accuracy = accuracy_score(test_labels, predicted_labels)\n",
    "print(f\"Overall accuracy: {round(accuracy*100, 2)}%\")"
   ]
  },
  {
   "cell_type": "code",
   "execution_count": 21,
   "id": "bae7fe2a",
   "metadata": {},
   "outputs": [
    {
     "data": {
      "image/png": "[encoded data removed]",
      "text/plain": [
       "<Figure size 640x480 with 1 Axes>"
      ]
     },
     "metadata": {},
     "output_type": "display_data"
    },
    {
     "name": "stdout",
     "output_type": "stream",
     "text": [
      "Actual: 1\n",
      "Prediction: [1]\n"
     ]
    }
   ],
   "source": [
    "rndm = random.randrange(len(test_labels))\n",
    "plt.imshow(test_images[rndm])\n",
    "plt.show()\n",
    "print(\"Actual:\", int(test_labels[rndm]))\n",
    "print(\"Prediction:\", predicted_labels[rndm])"
   ]
  },
  {
   "cell_type": "code",
   "execution_count": 22,
   "id": "f6e722de",
   "metadata": {},
   "outputs": [],
   "source": [
    "model.save('parameters.keras')"
   ]
  },
  {
   "cell_type": "code",
   "execution_count": null,
   "id": "b4e60f57",
   "metadata": {},
   "outputs": [],
   "source": []
  }
 ],
 "metadata": {
  "kernelspec": {
   "display_name": "Python 3 (ipykernel)",
   "language": "python",
   "name": "python3"
  },
  "language_info": {
   "codemirror_mode": {
    "name": "ipython",
    "version": 3
   },
   "file_extension": ".py",
   "mimetype": "text/x-python",
   "name": "python",
   "nbconvert_exporter": "python",
   "pygments_lexer": "ipython3",
   "version": "3.11.9"
  }
 },
 "nbformat": 4,
 "nbformat_minor": 5
}
